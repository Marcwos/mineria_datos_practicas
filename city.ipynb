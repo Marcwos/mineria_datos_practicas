{
 "cells": [
  {
   "cell_type": "code",
   "execution_count": 3,
   "id": "f1f2b705",
   "metadata": {},
   "outputs": [],
   "source": [
    "import pandas as pd"
   ]
  },
  {
   "cell_type": "code",
   "execution_count": null,
   "id": "a2152f9f",
   "metadata": {},
   "outputs": [],
   "source": [
    "Nombres: Ana, Luis, carlos, maria, pedro\n",
    "Edad: 23, 25, 22, 24, 26\n",
    "Cuidad: Quito, Guayaquil, Cuenca, Manta, Quito\n",
    "Salario: 1200, 1500, 1100, 1300, 1400\n",
    "\n"
   ]
  },
  {
   "cell_type": "code",
   "execution_count": 4,
   "id": "d32a195a",
   "metadata": {},
   "outputs": [
    {
     "data": {
      "text/html": [
       "<div>\n",
       "<style scoped>\n",
       "    .dataframe tbody tr th:only-of-type {\n",
       "        vertical-align: middle;\n",
       "    }\n",
       "\n",
       "    .dataframe tbody tr th {\n",
       "        vertical-align: top;\n",
       "    }\n",
       "\n",
       "    .dataframe thead th {\n",
       "        text-align: right;\n",
       "    }\n",
       "</style>\n",
       "<table border=\"1\" class=\"dataframe\">\n",
       "  <thead>\n",
       "    <tr style=\"text-align: right;\">\n",
       "      <th></th>\n",
       "      <th>Nombres</th>\n",
       "      <th>Edad</th>\n",
       "      <th>Cuidad</th>\n",
       "      <th>Salario</th>\n",
       "    </tr>\n",
       "  </thead>\n",
       "  <tbody>\n",
       "    <tr>\n",
       "      <th>0</th>\n",
       "      <td>Ana</td>\n",
       "      <td>23</td>\n",
       "      <td>Quito</td>\n",
       "      <td>1200</td>\n",
       "    </tr>\n",
       "    <tr>\n",
       "      <th>1</th>\n",
       "      <td>Luis</td>\n",
       "      <td>25</td>\n",
       "      <td>Guayaquil</td>\n",
       "      <td>1500</td>\n",
       "    </tr>\n",
       "    <tr>\n",
       "      <th>2</th>\n",
       "      <td>Carlos</td>\n",
       "      <td>22</td>\n",
       "      <td>Cuenca</td>\n",
       "      <td>1100</td>\n",
       "    </tr>\n",
       "    <tr>\n",
       "      <th>3</th>\n",
       "      <td>Maria</td>\n",
       "      <td>24</td>\n",
       "      <td>Manta</td>\n",
       "      <td>1300</td>\n",
       "    </tr>\n",
       "    <tr>\n",
       "      <th>4</th>\n",
       "      <td>Pedro</td>\n",
       "      <td>26</td>\n",
       "      <td>Quito</td>\n",
       "      <td>1400</td>\n",
       "    </tr>\n",
       "  </tbody>\n",
       "</table>\n",
       "</div>"
      ],
      "text/plain": [
       "  Nombres  Edad     Cuidad  Salario\n",
       "0     Ana    23      Quito     1200\n",
       "1    Luis    25  Guayaquil     1500\n",
       "2  Carlos    22     Cuenca     1100\n",
       "3   Maria    24      Manta     1300\n",
       "4   Pedro    26      Quito     1400"
      ]
     },
     "execution_count": 4,
     "metadata": {},
     "output_type": "execute_result"
    }
   ],
   "source": [
    "df = pd.DataFrame({\"Nombres\": [\"Ana\", \"Luis\", \"Carlos\", \"Maria\", \"Pedro\"],\n",
    "                     \"Edad\": [23, 25, 22, 24, 26],\n",
    "                        \"Cuidad\": [\"Quito\", \"Guayaquil\", \"Cuenca\", \"Manta\", \"Quito\"],\n",
    "                            \"Salario\": [1200, 1500, 1100, 1300, 1400]})\n",
    "\n",
    "df"
   ]
  },
  {
   "cell_type": "code",
   "execution_count": 5,
   "id": "00da2d89",
   "metadata": {},
   "outputs": [
    {
     "data": {
      "text/html": [
       "<div>\n",
       "<style scoped>\n",
       "    .dataframe tbody tr th:only-of-type {\n",
       "        vertical-align: middle;\n",
       "    }\n",
       "\n",
       "    .dataframe tbody tr th {\n",
       "        vertical-align: top;\n",
       "    }\n",
       "\n",
       "    .dataframe thead th {\n",
       "        text-align: right;\n",
       "    }\n",
       "</style>\n",
       "<table border=\"1\" class=\"dataframe\">\n",
       "  <thead>\n",
       "    <tr style=\"text-align: right;\">\n",
       "      <th></th>\n",
       "      <th>Nombres</th>\n",
       "      <th>Edad</th>\n",
       "      <th>Cuidad</th>\n",
       "      <th>Salario</th>\n",
       "    </tr>\n",
       "  </thead>\n",
       "  <tbody>\n",
       "    <tr>\n",
       "      <th>1</th>\n",
       "      <td>Luis</td>\n",
       "      <td>25</td>\n",
       "      <td>Guayaquil</td>\n",
       "      <td>1500</td>\n",
       "    </tr>\n",
       "    <tr>\n",
       "      <th>3</th>\n",
       "      <td>Maria</td>\n",
       "      <td>24</td>\n",
       "      <td>Manta</td>\n",
       "      <td>1300</td>\n",
       "    </tr>\n",
       "    <tr>\n",
       "      <th>4</th>\n",
       "      <td>Pedro</td>\n",
       "      <td>26</td>\n",
       "      <td>Quito</td>\n",
       "      <td>1400</td>\n",
       "    </tr>\n",
       "  </tbody>\n",
       "</table>\n",
       "</div>"
      ],
      "text/plain": [
       "  Nombres  Edad     Cuidad  Salario\n",
       "1    Luis    25  Guayaquil     1500\n",
       "3   Maria    24      Manta     1300\n",
       "4   Pedro    26      Quito     1400"
      ]
     },
     "execution_count": 5,
     "metadata": {},
     "output_type": "execute_result"
    }
   ],
   "source": [
    "empleados_mayores_23 = df.loc[df[\"Edad\"] > 23]\n",
    "empleados_mayores_23"
   ]
  },
  {
   "cell_type": "code",
   "execution_count": null,
   "id": "6d5a5019",
   "metadata": {},
   "outputs": [
    {
     "data": {
      "text/html": [
       "<div>\n",
       "<style scoped>\n",
       "    .dataframe tbody tr th:only-of-type {\n",
       "        vertical-align: middle;\n",
       "    }\n",
       "\n",
       "    .dataframe tbody tr th {\n",
       "        vertical-align: top;\n",
       "    }\n",
       "\n",
       "    .dataframe thead th {\n",
       "        text-align: right;\n",
       "    }\n",
       "</style>\n",
       "<table border=\"1\" class=\"dataframe\">\n",
       "  <thead>\n",
       "    <tr style=\"text-align: right;\">\n",
       "      <th></th>\n",
       "      <th>Nombres</th>\n",
       "      <th>Edad</th>\n",
       "      <th>Cuidad</th>\n",
       "      <th>Salario</th>\n",
       "    </tr>\n",
       "  </thead>\n",
       "  <tbody>\n",
       "    <tr>\n",
       "      <th>4</th>\n",
       "      <td>Pedro</td>\n",
       "      <td>26</td>\n",
       "      <td>Quito</td>\n",
       "      <td>1400</td>\n",
       "    </tr>\n",
       "  </tbody>\n",
       "</table>\n",
       "</div>"
      ],
      "text/plain": [
       "  Nombres  Edad Cuidad  Salario\n",
       "4   Pedro    26  Quito     1400"
      ]
     },
     "execution_count": 8,
     "metadata": {},
     "output_type": "execute_result"
    }
   ],
   "source": [
    "empleados_quito_mayor_1200 = df.loc[(df[\"Cuidad\"] == \"Quito\") & (df[\"Salario\"] > 1200)]\n",
    "empleados_quito_mayor_1200\n",
    "\n",
    "## con 2 condiciones\n",
    "## variables"
   ]
  },
  {
   "cell_type": "code",
   "execution_count": 13,
   "id": "3eb20516",
   "metadata": {},
   "outputs": [
    {
     "data": {
      "text/plain": [
       "0    14400\n",
       "1    18000\n",
       "2    13200\n",
       "3    15600\n",
       "4    16800\n",
       "Name: Salario, dtype: int64"
      ]
     },
     "execution_count": 13,
     "metadata": {},
     "output_type": "execute_result"
    }
   ],
   "source": [
    "salario_anual_empleado = df.loc[:, \"Salario\"] * 12\n",
    "salario_anual_empleado"
   ]
  },
  {
   "cell_type": "code",
   "execution_count": 11,
   "id": "920552a6",
   "metadata": {},
   "outputs": [
    {
     "data": {
      "text/plain": [
       "Cuidad     Guayaquil\n",
       "Salario         1500\n",
       "Name: 1, dtype: object"
      ]
     },
     "execution_count": 11,
     "metadata": {},
     "output_type": "execute_result"
    }
   ],
   "source": [
    "cuidad_salario_mejor_pagado = df.loc[df[\"Salario\"].idxmax(), [\"Cuidad\", \"Salario\"]]\n",
    "cuidad_salario_mejor_pagado"
   ]
  },
  {
   "cell_type": "code",
   "execution_count": null,
   "id": "8c94ec7d",
   "metadata": {},
   "outputs": [],
   "source": [
    "#apply"
   ]
  }
 ],
 "metadata": {
  "kernelspec": {
   "display_name": "venv",
   "language": "python",
   "name": "python3"
  },
  "language_info": {
   "codemirror_mode": {
    "name": "ipython",
    "version": 3
   },
   "file_extension": ".py",
   "mimetype": "text/x-python",
   "name": "python",
   "nbconvert_exporter": "python",
   "pygments_lexer": "ipython3",
   "version": "3.13.5"
  }
 },
 "nbformat": 4,
 "nbformat_minor": 5
}
