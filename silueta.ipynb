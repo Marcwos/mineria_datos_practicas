{
 "cells": [
  {
   "cell_type": "code",
   "execution_count": null,
   "id": "df33c1a5",
   "metadata": {},
   "outputs": [],
   "source": [
    "from sklearn.metrics import silhouette_score\n",
    "\n",
    "#metodo de la silueta para elegir k optimo"
   ]
  }
 ],
 "metadata": {
  "language_info": {
   "name": "python"
  }
 },
 "nbformat": 4,
 "nbformat_minor": 5
}
