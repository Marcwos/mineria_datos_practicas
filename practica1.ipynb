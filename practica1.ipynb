{
 "cells": [
  {
   "cell_type": "code",
   "execution_count": 6,
   "id": "1ba6ff7d",
   "metadata": {},
   "outputs": [],
   "source": [
    "import pandas as pd"
   ]
  },
  {
   "cell_type": "code",
   "execution_count": 94,
   "id": "875e0c80",
   "metadata": {},
   "outputs": [
    {
     "data": {
      "text/plain": [
       "Camisa       5\n",
       "Pantalon    10\n",
       "Zapatos     15\n",
       "Calcetas    30\n",
       "Name: Ventas, dtype: int64"
      ]
     },
     "execution_count": 94,
     "metadata": {},
     "output_type": "execute_result"
    }
   ],
   "source": [
    "ventas = pd.Series([5,10,15,30], name=\"Ventas\", index=[\"Camisa\", \"Pantalon\", \"Zapatos\", \"Calcetas\"])\n",
    "ventas"
   ]
  },
  {
   "cell_type": "code",
   "execution_count": 87,
   "id": "acfc6bf4",
   "metadata": {},
   "outputs": [
    {
     "data": {
      "text/plain": [
       "Camisa      5\n",
       "Pantalon    8\n",
       "Zapatos     1\n",
       "Calcetas    9\n",
       "Name: Cantidad, dtype: int64"
      ]
     },
     "execution_count": 87,
     "metadata": {},
     "output_type": "execute_result"
    }
   ],
   "source": [
    "cantidad = pd.Series([5,8,1,9], name=\"Cantidad\", index=[\"Camisa\", \"Pantalon\", \"Zapatos\", \"Calcetas\"])\n",
    "cantidad"
   ]
  },
  {
   "cell_type": "code",
   "execution_count": 106,
   "id": "7e446fd2",
   "metadata": {},
   "outputs": [
    {
     "data": {
      "text/plain": [
       "Camisa       25\n",
       "Pantalon     80\n",
       "Zapatos      15\n",
       "Calcetas    270\n",
       "Name: Total, dtype: int64"
      ]
     },
     "execution_count": 106,
     "metadata": {},
     "output_type": "execute_result"
    }
   ],
   "source": [
    "total = ventas * cantidad\n",
    "total.name = \"Total\"\n",
    "total"
   ]
  },
  {
   "cell_type": "code",
   "execution_count": 107,
   "id": "822d6acd",
   "metadata": {},
   "outputs": [
    {
     "data": {
      "text/plain": [
       "Camisa      5\n",
       "Pantalon    8\n",
       "Zapatos     1\n",
       "Name: Cantidad, dtype: int64"
      ]
     },
     "execution_count": 107,
     "metadata": {},
     "output_type": "execute_result"
    }
   ],
   "source": [
    "cantidad[\"Camisa\": \"Zapatos\"]"
   ]
  },
  {
   "cell_type": "code",
   "execution_count": 108,
   "id": "b37ae2a9",
   "metadata": {},
   "outputs": [
    {
     "data": {
      "text/plain": [
       "'Cantidad'"
      ]
     },
     "execution_count": 108,
     "metadata": {},
     "output_type": "execute_result"
    }
   ],
   "source": [
    "cantidad.name"
   ]
  },
  {
   "cell_type": "code",
   "execution_count": 109,
   "id": "bd632d38",
   "metadata": {},
   "outputs": [
    {
     "data": {
      "text/plain": [
       "Index(['Camisa', 'Pantalon', 'Zapatos', 'Calcetas'], dtype='object')"
      ]
     },
     "execution_count": 109,
     "metadata": {},
     "output_type": "execute_result"
    }
   ],
   "source": [
    "cantidad.index"
   ]
  },
  {
   "cell_type": "code",
   "execution_count": 110,
   "id": "8f395169",
   "metadata": {},
   "outputs": [
    {
     "data": {
      "text/plain": [
       "True"
      ]
     },
     "execution_count": 110,
     "metadata": {},
     "output_type": "execute_result"
    }
   ],
   "source": [
    "9 in cantidad.values"
   ]
  },
  {
   "cell_type": "code",
   "execution_count": 111,
   "id": "3f9ef80d",
   "metadata": {},
   "outputs": [
    {
     "data": {
      "text/plain": [
       "Camisa      5\n",
       "Pantalon    8\n",
       "Zapatos     1\n",
       "Name: Cantidad, dtype: int64"
      ]
     },
     "execution_count": 111,
     "metadata": {},
     "output_type": "execute_result"
    }
   ],
   "source": [
    "cantidad[0:3]"
   ]
  },
  {
   "cell_type": "code",
   "execution_count": 112,
   "id": "b9acf056",
   "metadata": {},
   "outputs": [
    {
     "data": {
      "text/plain": [
       "Camisa      False\n",
       "Pantalon     True\n",
       "Zapatos     False\n",
       "Calcetas     True\n",
       "Name: Cantidad, dtype: bool"
      ]
     },
     "execution_count": 112,
     "metadata": {},
     "output_type": "execute_result"
    }
   ],
   "source": [
    "cantidad > 5"
   ]
  },
  {
   "cell_type": "code",
   "execution_count": 113,
   "id": "dfc00b41",
   "metadata": {},
   "outputs": [
    {
     "data": {
      "text/plain": [
       "Camisa      5\n",
       "Pantalon    8\n",
       "Calcetas    9\n",
       "Name: Cantidad, dtype: int64"
      ]
     },
     "execution_count": 113,
     "metadata": {},
     "output_type": "execute_result"
    }
   ],
   "source": [
    "cantidad[cantidad >= 5]"
   ]
  },
  {
   "cell_type": "code",
   "execution_count": 114,
   "id": "a8ca3546",
   "metadata": {},
   "outputs": [
    {
     "data": {
      "text/html": [
       "<div>\n",
       "<style scoped>\n",
       "    .dataframe tbody tr th:only-of-type {\n",
       "        vertical-align: middle;\n",
       "    }\n",
       "\n",
       "    .dataframe tbody tr th {\n",
       "        vertical-align: top;\n",
       "    }\n",
       "\n",
       "    .dataframe thead th {\n",
       "        text-align: right;\n",
       "    }\n",
       "</style>\n",
       "<table border=\"1\" class=\"dataframe\">\n",
       "  <thead>\n",
       "    <tr style=\"text-align: right;\">\n",
       "      <th></th>\n",
       "      <th>ventas</th>\n",
       "      <th>cantidad</th>\n",
       "      <th>total</th>\n",
       "    </tr>\n",
       "  </thead>\n",
       "  <tbody>\n",
       "    <tr>\n",
       "      <th>Camisa</th>\n",
       "      <td>5</td>\n",
       "      <td>5</td>\n",
       "      <td>25</td>\n",
       "    </tr>\n",
       "    <tr>\n",
       "      <th>Pantalon</th>\n",
       "      <td>10</td>\n",
       "      <td>8</td>\n",
       "      <td>80</td>\n",
       "    </tr>\n",
       "    <tr>\n",
       "      <th>Zapatos</th>\n",
       "      <td>15</td>\n",
       "      <td>1</td>\n",
       "      <td>15</td>\n",
       "    </tr>\n",
       "    <tr>\n",
       "      <th>Calcetas</th>\n",
       "      <td>30</td>\n",
       "      <td>9</td>\n",
       "      <td>270</td>\n",
       "    </tr>\n",
       "  </tbody>\n",
       "</table>\n",
       "</div>"
      ],
      "text/plain": [
       "          ventas  cantidad  total\n",
       "Camisa         5         5     25\n",
       "Pantalon      10         8     80\n",
       "Zapatos       15         1     15\n",
       "Calcetas      30         9    270"
      ]
     },
     "execution_count": 114,
     "metadata": {},
     "output_type": "execute_result"
    }
   ],
   "source": [
    "df = pd.DataFrame({\"ventas\": ventas, \"cantidad\": cantidad, \"total\": total}, index=[\"Camisa\", \"Pantalon\", \"Zapatos\", \"Calcetas\"])\n",
    "df"
   ]
  },
  {
   "cell_type": "code",
   "execution_count": 115,
   "id": "a44ac001",
   "metadata": {},
   "outputs": [
    {
     "data": {
      "text/html": [
       "<div>\n",
       "<style scoped>\n",
       "    .dataframe tbody tr th:only-of-type {\n",
       "        vertical-align: middle;\n",
       "    }\n",
       "\n",
       "    .dataframe tbody tr th {\n",
       "        vertical-align: top;\n",
       "    }\n",
       "\n",
       "    .dataframe thead th {\n",
       "        text-align: right;\n",
       "    }\n",
       "</style>\n",
       "<table border=\"1\" class=\"dataframe\">\n",
       "  <thead>\n",
       "    <tr style=\"text-align: right;\">\n",
       "      <th></th>\n",
       "      <th>Camisa</th>\n",
       "      <th>Pantalon</th>\n",
       "      <th>Zapatos</th>\n",
       "      <th>Calcetas</th>\n",
       "    </tr>\n",
       "  </thead>\n",
       "  <tbody>\n",
       "    <tr>\n",
       "      <th>Ventas</th>\n",
       "      <td>5</td>\n",
       "      <td>10</td>\n",
       "      <td>15</td>\n",
       "      <td>30</td>\n",
       "    </tr>\n",
       "    <tr>\n",
       "      <th>Cantidad</th>\n",
       "      <td>5</td>\n",
       "      <td>8</td>\n",
       "      <td>1</td>\n",
       "      <td>9</td>\n",
       "    </tr>\n",
       "    <tr>\n",
       "      <th>Total</th>\n",
       "      <td>25</td>\n",
       "      <td>80</td>\n",
       "      <td>15</td>\n",
       "      <td>270</td>\n",
       "    </tr>\n",
       "  </tbody>\n",
       "</table>\n",
       "</div>"
      ],
      "text/plain": [
       "          Camisa  Pantalon  Zapatos  Calcetas\n",
       "Ventas         5        10       15        30\n",
       "Cantidad       5         8        1         9\n",
       "Total         25        80       15       270"
      ]
     },
     "execution_count": 115,
     "metadata": {},
     "output_type": "execute_result"
    }
   ],
   "source": [
    "data = [ventas, cantidad, total]\n",
    "dfff = pd.DataFrame(data=data)\n",
    "dfff"
   ]
  },
  {
   "cell_type": "code",
   "execution_count": 117,
   "id": "66701dfd",
   "metadata": {},
   "outputs": [
    {
     "data": {
      "text/html": [
       "<div>\n",
       "<style scoped>\n",
       "    .dataframe tbody tr th:only-of-type {\n",
       "        vertical-align: middle;\n",
       "    }\n",
       "\n",
       "    .dataframe tbody tr th {\n",
       "        vertical-align: top;\n",
       "    }\n",
       "\n",
       "    .dataframe thead th {\n",
       "        text-align: right;\n",
       "    }\n",
       "</style>\n",
       "<table border=\"1\" class=\"dataframe\">\n",
       "  <thead>\n",
       "    <tr style=\"text-align: right;\">\n",
       "      <th></th>\n",
       "      <th>cantidad</th>\n",
       "      <th>total</th>\n",
       "    </tr>\n",
       "  </thead>\n",
       "  <tbody>\n",
       "    <tr>\n",
       "      <th>Camisa</th>\n",
       "      <td>5</td>\n",
       "      <td>25</td>\n",
       "    </tr>\n",
       "    <tr>\n",
       "      <th>Pantalon</th>\n",
       "      <td>8</td>\n",
       "      <td>80</td>\n",
       "    </tr>\n",
       "    <tr>\n",
       "      <th>Zapatos</th>\n",
       "      <td>1</td>\n",
       "      <td>15</td>\n",
       "    </tr>\n",
       "    <tr>\n",
       "      <th>Calcetas</th>\n",
       "      <td>9</td>\n",
       "      <td>270</td>\n",
       "    </tr>\n",
       "  </tbody>\n",
       "</table>\n",
       "</div>"
      ],
      "text/plain": [
       "          cantidad  total\n",
       "Camisa           5     25\n",
       "Pantalon         8     80\n",
       "Zapatos          1     15\n",
       "Calcetas         9    270"
      ]
     },
     "execution_count": 117,
     "metadata": {},
     "output_type": "execute_result"
    }
   ],
   "source": [
    "df.loc[:, [\"cantidad\", \"total\"]]"
   ]
  },
  {
   "cell_type": "code",
   "execution_count": 118,
   "id": "adb0efde",
   "metadata": {},
   "outputs": [
    {
     "data": {
      "text/html": [
       "<div>\n",
       "<style scoped>\n",
       "    .dataframe tbody tr th:only-of-type {\n",
       "        vertical-align: middle;\n",
       "    }\n",
       "\n",
       "    .dataframe tbody tr th {\n",
       "        vertical-align: top;\n",
       "    }\n",
       "\n",
       "    .dataframe thead th {\n",
       "        text-align: right;\n",
       "    }\n",
       "</style>\n",
       "<table border=\"1\" class=\"dataframe\">\n",
       "  <thead>\n",
       "    <tr style=\"text-align: right;\">\n",
       "      <th></th>\n",
       "      <th>cantidad</th>\n",
       "      <th>total</th>\n",
       "    </tr>\n",
       "  </thead>\n",
       "  <tbody>\n",
       "    <tr>\n",
       "      <th>Camisa</th>\n",
       "      <td>5</td>\n",
       "      <td>25</td>\n",
       "    </tr>\n",
       "    <tr>\n",
       "      <th>Pantalon</th>\n",
       "      <td>8</td>\n",
       "      <td>80</td>\n",
       "    </tr>\n",
       "    <tr>\n",
       "      <th>Zapatos</th>\n",
       "      <td>1</td>\n",
       "      <td>15</td>\n",
       "    </tr>\n",
       "    <tr>\n",
       "      <th>Calcetas</th>\n",
       "      <td>9</td>\n",
       "      <td>270</td>\n",
       "    </tr>\n",
       "  </tbody>\n",
       "</table>\n",
       "</div>"
      ],
      "text/plain": [
       "          cantidad  total\n",
       "Camisa           5     25\n",
       "Pantalon         8     80\n",
       "Zapatos          1     15\n",
       "Calcetas         9    270"
      ]
     },
     "execution_count": 118,
     "metadata": {},
     "output_type": "execute_result"
    }
   ],
   "source": [
    "df.iloc[:5, [1,2]]"
   ]
  },
  {
   "cell_type": "code",
   "execution_count": 119,
   "id": "7001808e",
   "metadata": {},
   "outputs": [
    {
     "data": {
      "text/html": [
       "<div>\n",
       "<style scoped>\n",
       "    .dataframe tbody tr th:only-of-type {\n",
       "        vertical-align: middle;\n",
       "    }\n",
       "\n",
       "    .dataframe tbody tr th {\n",
       "        vertical-align: top;\n",
       "    }\n",
       "\n",
       "    .dataframe thead th {\n",
       "        text-align: right;\n",
       "    }\n",
       "</style>\n",
       "<table border=\"1\" class=\"dataframe\">\n",
       "  <thead>\n",
       "    <tr style=\"text-align: right;\">\n",
       "      <th></th>\n",
       "      <th>ventas</th>\n",
       "      <th>cantidad</th>\n",
       "      <th>total</th>\n",
       "    </tr>\n",
       "  </thead>\n",
       "  <tbody>\n",
       "    <tr>\n",
       "      <th>Calcetas</th>\n",
       "      <td>30</td>\n",
       "      <td>9</td>\n",
       "      <td>270</td>\n",
       "    </tr>\n",
       "  </tbody>\n",
       "</table>\n",
       "</div>"
      ],
      "text/plain": [
       "          ventas  cantidad  total\n",
       "Calcetas      30         9    270"
      ]
     },
     "execution_count": 119,
     "metadata": {},
     "output_type": "execute_result"
    }
   ],
   "source": [
    "df.loc[df.loc[:, \"ventas\"] > 20]"
   ]
  },
  {
   "cell_type": "code",
   "execution_count": 121,
   "id": "51bf7378",
   "metadata": {},
   "outputs": [
    {
     "data": {
      "text/plain": [
       "np.int64(1)"
      ]
     },
     "execution_count": 121,
     "metadata": {},
     "output_type": "execute_result"
    }
   ],
   "source": [
    "df.loc[df.loc[:, \"ventas\"] > 20] [\"ventas\"].count()"
   ]
  }
 ],
 "metadata": {
  "kernelspec": {
   "display_name": "venv",
   "language": "python",
   "name": "python3"
  },
  "language_info": {
   "codemirror_mode": {
    "name": "ipython",
    "version": 3
   },
   "file_extension": ".py",
   "mimetype": "text/x-python",
   "name": "python",
   "nbconvert_exporter": "python",
   "pygments_lexer": "ipython3",
   "version": "3.13.5"
  }
 },
 "nbformat": 4,
 "nbformat_minor": 5
}
