{
 "cells": [
  {
   "cell_type": "code",
   "execution_count": 1,
   "id": "7511b880",
   "metadata": {},
   "outputs": [],
   "source": [
    "import pandas as pd"
   ]
  },
  {
   "cell_type": "code",
   "execution_count": 5,
   "id": "ddb61f8f",
   "metadata": {},
   "outputs": [
    {
     "data": {
      "text/plain": [
       "Lunes        28\n",
       "Martes       30\n",
       "Miercoles    27\n",
       "Jueves       29\n",
       "Viernes      31\n",
       "Name: Temperaturas, dtype: int64"
      ]
     },
     "execution_count": 5,
     "metadata": {},
     "output_type": "execute_result"
    }
   ],
   "source": [
    "temperaturas = pd.Series([28,30,27,29,31], name=\"Temperaturas\", index=[\"Lunes\", \"Martes\", \"Miercoles\", \"Jueves\", \"Viernes\"])\n",
    "temperaturas"
   ]
  },
  {
   "cell_type": "code",
   "execution_count": 6,
   "id": "0bb8b85d",
   "metadata": {},
   "outputs": [
    {
     "data": {
      "text/plain": [
       "np.int64(27)"
      ]
     },
     "execution_count": 6,
     "metadata": {},
     "output_type": "execute_result"
    }
   ],
   "source": [
    "temperaturas[\"Miercoles\"]"
   ]
  },
  {
   "cell_type": "code",
   "execution_count": 7,
   "id": "680f6f3d",
   "metadata": {},
   "outputs": [
    {
     "data": {
      "text/plain": [
       "Lunes        28\n",
       "Martes       30\n",
       "Miercoles    27\n",
       "Name: Temperaturas, dtype: int64"
      ]
     },
     "execution_count": 7,
     "metadata": {},
     "output_type": "execute_result"
    }
   ],
   "source": [
    "temperaturas[\"Lunes\":\"Miercoles\"]"
   ]
  },
  {
   "cell_type": "code",
   "execution_count": 8,
   "id": "8895f378",
   "metadata": {},
   "outputs": [
    {
     "data": {
      "text/plain": [
       "Martes     30\n",
       "Jueves     29\n",
       "Viernes    31\n",
       "Name: Temperaturas, dtype: int64"
      ]
     },
     "execution_count": 8,
     "metadata": {},
     "output_type": "execute_result"
    }
   ],
   "source": [
    "temperaturas[temperaturas > 28]"
   ]
  },
  {
   "cell_type": "code",
   "execution_count": 9,
   "id": "80bd7e24",
   "metadata": {},
   "outputs": [
    {
     "data": {
      "text/plain": [
       "Lunes      28\n",
       "Martes     30\n",
       "Jueves     29\n",
       "Viernes    31\n",
       "Name: Temperaturas, dtype: int64"
      ]
     },
     "execution_count": 9,
     "metadata": {},
     "output_type": "execute_result"
    }
   ],
   "source": [
    "temperaturas[temperaturas > 27]"
   ]
  },
  {
   "cell_type": "code",
   "execution_count": null,
   "id": "c6448a5a",
   "metadata": {},
   "outputs": [
    {
     "data": {
      "text/plain": [
       "np.int64(25)"
      ]
     },
     "execution_count": 10,
     "metadata": {},
     "output_type": "execute_result"
    }
   ],
   "source": [
    "#Update\n",
    "temperaturas[\"Miercoles\"] = 25\n",
    "temperaturas[\"Miercoles\"]"
   ]
  },
  {
   "cell_type": "code",
   "execution_count": null,
   "id": "c2202e35",
   "metadata": {},
   "outputs": [
    {
     "data": {
      "text/plain": [
       "Lunes        28\n",
       "Martes       30\n",
       "Miercoles    25\n",
       "Jueves       29\n",
       "Name: Temperaturas, dtype: int64"
      ]
     },
     "execution_count": 11,
     "metadata": {},
     "output_type": "execute_result"
    }
   ],
   "source": [
    "#Delete\n",
    "del temperaturas[\"Viernes\"]\n",
    "temperaturas"
   ]
  },
  {
   "cell_type": "code",
   "execution_count": 16,
   "id": "c3fbc52b",
   "metadata": {},
   "outputs": [],
   "source": [
    "df = pd.DataFrame({\"temperaturas\": temperaturas})"
   ]
  }
 ],
 "metadata": {
  "kernelspec": {
   "display_name": "venv",
   "language": "python",
   "name": "python3"
  },
  "language_info": {
   "codemirror_mode": {
    "name": "ipython",
    "version": 3
   },
   "file_extension": ".py",
   "mimetype": "text/x-python",
   "name": "python",
   "nbconvert_exporter": "python",
   "pygments_lexer": "ipython3",
   "version": "3.13.5"
  }
 },
 "nbformat": 4,
 "nbformat_minor": 5
}
